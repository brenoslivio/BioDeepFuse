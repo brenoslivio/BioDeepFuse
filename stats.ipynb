{
 "cells": [
  {
   "cell_type": "code",
   "execution_count": 6,
   "metadata": {},
   "outputs": [],
   "source": [
    "import pandas as pd\n",
    "import numpy as np\n",
    "import os"
   ]
  },
  {
   "cell_type": "code",
   "execution_count": 9,
   "metadata": {},
   "outputs": [],
   "source": [
    "def precision_metrics(files):\n",
    "    for file in files:\n",
    "        precision = [pd.read_csv(f'{files[file]}/results_{i}.csv')['precision'][6]*100 for i in range(1, 10)]\n",
    "    \n",
    "        print(f\"{file}: {np.mean(precision):.4f} +- {np.std(precision):.4f}\")"
   ]
  },
  {
   "cell_type": "code",
   "execution_count": 11,
   "metadata": {},
   "outputs": [
    {
     "name": "stdout",
     "output_type": "stream",
     "text": [
      "enc0_cnn_1conv_k1: 87.0806 +- 1.4107\n",
      "only_features: 88.2337 +- 0.8124\n",
      "enc0_cnn_norm_1conv_k1: 86.4401 +- 1.8693\n"
     ]
    }
   ],
   "source": [
    "results_folders = os.listdir('results')\n",
    "\n",
    "precision_metrics({result: f'results/{result}' for result in results_folders})"
   ]
  }
 ],
 "metadata": {
  "kernelspec": {
   "display_name": "py",
   "language": "python",
   "name": "python3"
  },
  "language_info": {
   "codemirror_mode": {
    "name": "ipython",
    "version": 3
   },
   "file_extension": ".py",
   "mimetype": "text/x-python",
   "name": "python",
   "nbconvert_exporter": "python",
   "pygments_lexer": "ipython3",
   "version": "3.10.9"
  },
  "orig_nbformat": 4
 },
 "nbformat": 4,
 "nbformat_minor": 2
}
