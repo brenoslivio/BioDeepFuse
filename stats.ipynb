{
 "cells": [
  {
   "cell_type": "code",
   "execution_count": 34,
   "metadata": {},
   "outputs": [],
   "source": [
    "from scipy.stats import ttest_ind\n",
    "import pandas as pd\n",
    "import numpy as np"
   ]
  },
  {
   "cell_type": "code",
   "execution_count": 51,
   "metadata": {},
   "outputs": [],
   "source": [
    "def precision_metrics(files):\n",
    "    for file in files:\n",
    "        precision = [pd.read_csv(f'{files[file]}/results_{i}.csv')['precision'][10]*100 for i in range(1, 11)]\n",
    "    \n",
    "        print(f\"{file}: {np.mean(precision):.4f} +- {np.std(precision):.4f}\")"
   ]
  },
  {
   "cell_type": "code",
   "execution_count": 52,
   "metadata": {},
   "outputs": [
    {
     "name": "stdout",
     "output_type": "stream",
     "text": [
      "one-hot encoding: 84.3539 +- 0.5089\n",
      "only features: 86.4293 +- 0.5872\n",
      "one-hot encoding + features: 88.0210 +- 0.6889\n",
      "all encoding + features: 86.9050 +- 0.8812\n"
     ]
    }
   ],
   "source": [
    "precision_metrics({'one-hot encoding': 'results/cnn_enc_0_leaky_4',\n",
    "                    'only features': 'results/features_leaky_2_dense',\n",
    "                    'one-hot encoding + features': 'results/cnn_enc_0_features_4',\n",
    "                    'all encoding + features': 'results/cnn_enc_all_features'})"
   ]
  }
 ],
 "metadata": {
  "kernelspec": {
   "display_name": "py",
   "language": "python",
   "name": "python3"
  },
  "language_info": {
   "codemirror_mode": {
    "name": "ipython",
    "version": 3
   },
   "file_extension": ".py",
   "mimetype": "text/x-python",
   "name": "python",
   "nbconvert_exporter": "python",
   "pygments_lexer": "ipython3",
   "version": "3.10.9"
  },
  "orig_nbformat": 4
 },
 "nbformat": 4,
 "nbformat_minor": 2
}
