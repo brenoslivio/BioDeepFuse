{
 "cells": [
  {
   "cell_type": "code",
   "execution_count": 1,
   "metadata": {},
   "outputs": [
    {
     "name": "stderr",
     "output_type": "stream",
     "text": [
      "2023-03-15 21:33:24.785125: I tensorflow/core/platform/cpu_feature_guard.cc:193] This TensorFlow binary is optimized with oneAPI Deep Neural Network Library (oneDNN) to use the following CPU instructions in performance-critical operations:  SSE4.1 SSE4.2 AVX AVX2 FMA\n",
      "To enable them in other operations, rebuild TensorFlow with the appropriate compiler flags.\n"
     ]
    },
    {
     "data": {
      "text/plain": [
       "3339"
      ]
     },
     "execution_count": 1,
     "metadata": {},
     "output_type": "execute_result"
    }
   ],
   "source": [
    "import numpy as np\n",
    "import tensorflow as tf\n",
    "from tensorflow.keras.layers import Input, Concatenate, LSTM, Dense, Dropout, Conv1D, MaxPooling1D, Flatten\n",
    "from keras.models import Model\n",
    "import numpy as np\n",
    "import seqdata\n",
    "\n",
    "train = seqdata.Seq('train/')\n",
    "test = seqdata.Seq('test/')\n",
    "\n",
    "max_len = seqdata.pad_data(train, test)\n",
    "max_len"
   ]
  },
  {
   "cell_type": "code",
   "execution_count": 2,
   "metadata": {},
   "outputs": [
    {
     "data": {
      "text/plain": [
       "2342"
      ]
     },
     "execution_count": 2,
     "metadata": {},
     "output_type": "execute_result"
    }
   ],
   "source": [
    "len(train)"
   ]
  },
  {
   "cell_type": "code",
   "execution_count": 3,
   "metadata": {},
   "outputs": [],
   "source": [
    "train.feature_extraction([1, 2, 3, 4, 5, 6, 7, 8], True)"
   ]
  },
  {
   "cell_type": "code",
   "execution_count": 4,
   "metadata": {},
   "outputs": [],
   "source": [
    "test.feature_extraction([1, 2, 3, 4, 5, 6, 7, 8], False)"
   ]
  },
  {
   "cell_type": "code",
   "execution_count": 5,
   "metadata": {},
   "outputs": [
    {
     "data": {
      "text/plain": [
       "array([[ 1.3091419 , -1.2966676 , -2.3753762 , ..., -0.8258909 ,\n",
       "        -0.60213995, -0.4214839 ],\n",
       "       [ 2.7393308 , -2.7839572 , -2.652536  , ..., -1.3685424 ,\n",
       "        -0.58461696, -0.351172  ],\n",
       "       [-0.07086486, -0.42728546, -1.8170396 , ...,  0.20473984,\n",
       "         0.10275402,  0.03944161],\n",
       "       ...,\n",
       "       [ 0.95696485, -1.1995386 , -1.007785  , ...,  0.501425  ,\n",
       "         0.42393824,  0.3728538 ],\n",
       "       [-0.4922409 ,  0.77606106, -0.17842649, ...,  0.38955942,\n",
       "         0.33930767,  0.30033734],\n",
       "       [-0.09512194,  0.48874465,  0.29257405, ...,  0.4260687 ,\n",
       "         0.3805864 ,  0.33994618]], dtype=float32)"
      ]
     },
     "execution_count": 5,
     "metadata": {},
     "output_type": "execute_result"
    }
   ],
   "source": [
    "train.features"
   ]
  },
  {
   "cell_type": "code",
   "execution_count": 6,
   "metadata": {},
   "outputs": [
    {
     "name": "stdout",
     "output_type": "stream",
     "text": [
      "Model: \"model\"\n",
      "__________________________________________________________________________________________________\n",
      " Layer (type)                   Output Shape         Param #     Connected to                     \n",
      "==================================================================================================\n",
      " input_1 (InputLayer)           [(None, 3339, 4)]    0           []                               \n",
      "                                                                                                  \n",
      " conv1d (Conv1D)                (None, 3337, 64)     832         ['input_1[0][0]']                \n",
      "                                                                                                  \n",
      " conv1d_1 (Conv1D)              (None, 3335, 64)     12352       ['conv1d[0][0]']                 \n",
      "                                                                                                  \n",
      " dropout (Dropout)              (None, 3335, 64)     0           ['conv1d_1[0][0]']               \n",
      "                                                                                                  \n",
      " max_pooling1d (MaxPooling1D)   (None, 1667, 64)     0           ['dropout[0][0]']                \n",
      "                                                                                                  \n",
      " input_2 (InputLayer)           [(None, 426)]        0           []                               \n",
      "                                                                                                  \n",
      " flatten (Flatten)              (None, 106688)       0           ['max_pooling1d[0][0]']          \n",
      "                                                                                                  \n",
      " flatten_1 (Flatten)            (None, 426)          0           ['input_2[0][0]']                \n",
      "                                                                                                  \n",
      " concatenate (Concatenate)      (None, 107114)       0           ['flatten[0][0]',                \n",
      "                                                                  'flatten_1[0][0]']              \n",
      "                                                                                                  \n",
      " dense (Dense)                  (None, 128)          13710720    ['concatenate[0][0]']            \n",
      "                                                                                                  \n",
      " dense_1 (Dense)                (None, 8)            1032        ['dense[0][0]']                  \n",
      "                                                                                                  \n",
      "==================================================================================================\n",
      "Total params: 13,724,936\n",
      "Trainable params: 13,724,936\n",
      "Non-trainable params: 0\n",
      "__________________________________________________________________________________________________\n"
     ]
    },
    {
     "name": "stderr",
     "output_type": "stream",
     "text": [
      "2023-03-15 21:36:21.682809: I tensorflow/core/platform/cpu_feature_guard.cc:193] This TensorFlow binary is optimized with oneAPI Deep Neural Network Library (oneDNN) to use the following CPU instructions in performance-critical operations:  SSE4.1 SSE4.2 AVX AVX2 FMA\n",
      "To enable them in other operations, rebuild TensorFlow with the appropriate compiler flags.\n",
      "2023-03-15 21:36:21.688222: I tensorflow/core/common_runtime/process_util.cc:146] Creating new thread pool with default inter op setting: 2. Tune using inter_op_parallelism_threads for best performance.\n"
     ]
    },
    {
     "data": {
      "image/png": "[encoded data removed]",
      "text/plain": [
       "<IPython.core.display.Image object>"
      ]
     },
     "execution_count": 6,
     "metadata": {},
     "output_type": "execute_result"
    }
   ],
   "source": [
    "# Functional Model Keras\n",
    "\n",
    "# cnn input\n",
    "\n",
    "cnn_input = Input(shape=(max_len, 4))\n",
    "\n",
    "x = Conv1D(filters=64, kernel_size=3, activation='relu')(cnn_input)\n",
    "x = Conv1D(filters=64, kernel_size=3, activation='relu')(x)\n",
    "x = Dropout(0.5)(x)\n",
    "x = MaxPooling1D(pool_size=2)(x)\n",
    "cnn_out = Flatten()(x)\n",
    "\n",
    "# feature extraction input\n",
    "\n",
    "feat_extraction_input = Input(shape=(426,))\n",
    "feat_extraction_out = Flatten()(feat_extraction_input)\n",
    "\n",
    "concat = Concatenate()([cnn_out, feat_extraction_out])\n",
    "\n",
    "dense = Dense(128, activation='relu')(concat)\n",
    "\n",
    "main_output = Dense(8, activation='softmax')(dense)\n",
    "\n",
    "model = Model(inputs=[cnn_input,feat_extraction_input], outputs=main_output)\n",
    "\n",
    "# Compile and train the model\n",
    "model.compile(loss='categorical_crossentropy', optimizer='adam', \n",
    "              metrics= [tf.keras.metrics.Precision(class_id=i, name=name)for i, name in enumerate(train.names)])\n",
    "\n",
    "model.summary()\n",
    "\n",
    "tf.keras.utils.plot_model(\n",
    "    model,\n",
    "    to_file='model.png',\n",
    "    show_shapes=False,\n",
    "    show_dtype=False,\n",
    "    show_layer_names=True,\n",
    "    rankdir='TB',\n",
    "    expand_nested=False,\n",
    "    dpi=96,\n",
    "    layer_range=None,\n",
    "    show_layer_activations=False\n",
    ")"
   ]
  },
  {
   "cell_type": "code",
   "execution_count": 8,
   "metadata": {},
   "outputs": [
    {
     "name": "stdout",
     "output_type": "stream",
     "text": [
      "Epoch 1/10\n",
      "74/74 [==============================] - 32s 418ms/step - loss: 0.6566 - snoRNA: 0.6316 - rRNA: 0.9583 - snRNA: 0.8158 - mRNA: 0.9014 - pre_miRNA: 0.5874 - miRNA: 0.6170 - tRNA: 0.9500 - tmRNA: 0.9391\n",
      "Epoch 2/10\n",
      "74/74 [==============================] - 35s 472ms/step - loss: 0.2831 - snoRNA: 0.7130 - rRNA: 0.9927 - snRNA: 0.8955 - mRNA: 0.9861 - pre_miRNA: 0.6910 - miRNA: 0.6855 - tRNA: 0.9915 - tmRNA: 0.9891\n",
      "Epoch 3/10\n",
      "74/74 [==============================] - 30s 404ms/step - loss: 0.1679 - snoRNA: 0.8583 - rRNA: 0.9963 - snRNA: 0.9620 - mRNA: 0.9980 - pre_miRNA: 0.7940 - miRNA: 0.7956 - tRNA: 0.9972 - tmRNA: 1.0000\n",
      "Epoch 4/10\n",
      "74/74 [==============================] - 31s 413ms/step - loss: 0.1095 - snoRNA: 0.9209 - rRNA: 0.9982 - snRNA: 0.9655 - mRNA: 1.0000 - pre_miRNA: 0.8317 - miRNA: 0.8520 - tRNA: 1.0000 - tmRNA: 1.0000\n",
      "Epoch 5/10\n",
      "74/74 [==============================] - 31s 415ms/step - loss: 0.0572 - snoRNA: 0.9714 - rRNA: 1.0000 - snRNA: 1.0000 - mRNA: 1.0000 - pre_miRNA: 0.9150 - miRNA: 0.9314 - tRNA: 1.0000 - tmRNA: 1.0000\n",
      "Epoch 6/10\n",
      "74/74 [==============================] - 29s 391ms/step - loss: 0.0546 - snoRNA: 0.9857 - rRNA: 1.0000 - snRNA: 1.0000 - mRNA: 1.0000 - pre_miRNA: 0.8942 - miRNA: 0.9163 - tRNA: 1.0000 - tmRNA: 1.0000\n",
      "Epoch 7/10\n",
      "74/74 [==============================] - 32s 432ms/step - loss: 0.0414 - snoRNA: 0.9783 - rRNA: 1.0000 - snRNA: 1.0000 - mRNA: 1.0000 - pre_miRNA: 0.9590 - miRNA: 0.9259 - tRNA: 1.0000 - tmRNA: 1.0000\n",
      "Epoch 8/10\n",
      "74/74 [==============================] - 31s 422ms/step - loss: 0.0262 - snoRNA: 0.9860 - rRNA: 1.0000 - snRNA: 1.0000 - mRNA: 1.0000 - pre_miRNA: 0.9703 - miRNA: 0.9714 - tRNA: 1.0000 - tmRNA: 1.0000\n",
      "Epoch 9/10\n",
      "74/74 [==============================] - 31s 416ms/step - loss: 0.0246 - snoRNA: 1.0000 - rRNA: 1.0000 - snRNA: 1.0000 - mRNA: 1.0000 - pre_miRNA: 0.9650 - miRNA: 0.9579 - tRNA: 1.0000 - tmRNA: 1.0000\n",
      "Epoch 10/10\n",
      "74/74 [==============================] - 29s 387ms/step - loss: 0.0200 - snoRNA: 1.0000 - rRNA: 1.0000 - snRNA: 1.0000 - mRNA: 1.0000 - pre_miRNA: 0.9752 - miRNA: 0.9671 - tRNA: 1.0000 - tmRNA: 1.0000\n"
     ]
    },
    {
     "data": {
      "text/plain": [
       "<keras.callbacks.History at 0x7fa65fb85360>"
      ]
     },
     "execution_count": 8,
     "metadata": {},
     "output_type": "execute_result"
    }
   ],
   "source": [
    "model.fit([train.seqs, train.features], train.labels, batch_size=32, epochs=10)"
   ]
  },
  {
   "cell_type": "code",
   "execution_count": 9,
   "metadata": {},
   "outputs": [
    {
     "name": "stdout",
     "output_type": "stream",
     "text": [
      "21/21 [==============================] - 2s 82ms/step - loss: 0.5273 - snoRNA: 0.6000 - rRNA: 0.9306 - snRNA: 0.6875 - mRNA: 0.9888 - pre_miRNA: 0.7188 - miRNA: 0.4932 - tRNA: 1.0000 - tmRNA: 1.0000    \n"
     ]
    },
    {
     "data": {
      "text/plain": [
       "{'snoRNA': 0.6000000238418579,\n",
       " 'rRNA': 0.9305555820465088,\n",
       " 'snRNA': 0.6875,\n",
       " 'mRNA': 0.9888268113136292,\n",
       " 'pre_miRNA': 0.71875,\n",
       " 'miRNA': 0.4931506812572479,\n",
       " 'tRNA': 1.0,\n",
       " 'tmRNA': 1.0}"
      ]
     },
     "execution_count": 9,
     "metadata": {},
     "output_type": "execute_result"
    }
   ],
   "source": [
    "vals = model.evaluate([test.seqs, test.features], test.labels)\n",
    "\n",
    "val_dict = {test.names[i]: val for i, val in enumerate(vals[1:])}\n",
    "\n",
    "val_dict"
   ]
  },
  {
   "cell_type": "code",
   "execution_count": 13,
   "metadata": {},
   "outputs": [
    {
     "name": "stdout",
     "output_type": "stream",
     "text": [
      "Model: \"model_2\"\n",
      "_________________________________________________________________\n",
      " Layer (type)                Output Shape              Param #   \n",
      "=================================================================\n",
      " input_5 (InputLayer)        [(None, 3339, 4)]         0         \n",
      "                                                                 \n",
      " conv1d_3 (Conv1D)           (None, 3337, 64)          832       \n",
      "                                                                 \n",
      " conv1d_4 (Conv1D)           (None, 3335, 64)          12352     \n",
      "                                                                 \n",
      " dropout_2 (Dropout)         (None, 3335, 64)          0         \n",
      "                                                                 \n",
      " max_pooling1d_2 (MaxPooling  (None, 1667, 64)         0         \n",
      " 1D)                                                             \n",
      "                                                                 \n",
      " flatten_4 (Flatten)         (None, 106688)            0         \n",
      "                                                                 \n",
      " dense_4 (Dense)             (None, 128)               13656192  \n",
      "                                                                 \n",
      " dense_5 (Dense)             (None, 8)                 1032      \n",
      "                                                                 \n",
      "=================================================================\n",
      "Total params: 13,670,408\n",
      "Trainable params: 13,670,408\n",
      "Non-trainable params: 0\n",
      "_________________________________________________________________\n"
     ]
    }
   ],
   "source": [
    "# cnn input\n",
    "\n",
    "cnn_input = Input(shape=(max_len, 4))\n",
    "\n",
    "x = Conv1D(filters=64, kernel_size=3, activation='relu')(cnn_input)\n",
    "x = Conv1D(filters=64, kernel_size=3, activation='relu')(x)\n",
    "x = Dropout(0.5)(x)\n",
    "x = MaxPooling1D(pool_size=2)(x)\n",
    "cnn_out = Flatten()(x)\n",
    "\n",
    "dense = Dense(128, activation='relu')(cnn_out)\n",
    "\n",
    "main_output = Dense(8, activation='softmax')(dense)\n",
    "\n",
    "model = Model(inputs=cnn_input, outputs=main_output)\n",
    "\n",
    "# Compile and train the model\n",
    "model.compile(loss='categorical_crossentropy', optimizer='adam', \n",
    "              metrics= [tf.keras.metrics.Precision(class_id=i, name=name) for i, name in enumerate(train.names)])\n",
    "\n",
    "model.summary()"
   ]
  },
  {
   "cell_type": "code",
   "execution_count": 14,
   "metadata": {},
   "outputs": [
    {
     "name": "stdout",
     "output_type": "stream",
     "text": [
      "Epoch 1/10\n",
      "74/74 [==============================] - 32s 423ms/step - loss: 1.0895 - snoRNA: 0.0000e+00 - rRNA: 0.7618 - snRNA: 1.0000 - mRNA: 0.6876 - pre_miRNA: 0.5357 - miRNA: 0.4483 - tRNA: 0.9605 - tmRNA: 0.8988\n",
      "Epoch 2/10\n",
      "74/74 [==============================] - 29s 392ms/step - loss: 0.4816 - snoRNA: 0.7294 - rRNA: 0.9311 - snRNA: 0.9070 - mRNA: 0.8765 - pre_miRNA: 0.6441 - miRNA: 0.6700 - tRNA: 0.9693 - tmRNA: 0.9840\n",
      "Epoch 3/10\n",
      "74/74 [==============================] - 33s 441ms/step - loss: 0.2888 - snoRNA: 0.7830 - rRNA: 0.9828 - snRNA: 0.8841 - mRNA: 0.9382 - pre_miRNA: 0.7396 - miRNA: 0.7638 - tRNA: 0.9915 - tmRNA: 0.9962\n",
      "Epoch 4/10\n",
      "74/74 [==============================] - 32s 429ms/step - loss: 0.2009 - snoRNA: 0.8092 - rRNA: 0.9890 - snRNA: 0.9342 - mRNA: 0.9940 - pre_miRNA: 0.7937 - miRNA: 0.7386 - tRNA: 0.9887 - tmRNA: 1.0000\n",
      "Epoch 5/10\n",
      "74/74 [==============================] - 29s 398ms/step - loss: 0.1432 - snoRNA: 0.9008 - rRNA: 0.9909 - snRNA: 0.9639 - mRNA: 0.9941 - pre_miRNA: 0.8122 - miRNA: 0.8141 - tRNA: 0.9972 - tmRNA: 1.0000\n",
      "Epoch 6/10\n",
      "74/74 [==============================] - 29s 398ms/step - loss: 0.1160 - snoRNA: 0.9124 - rRNA: 0.9963 - snRNA: 0.9877 - mRNA: 0.9961 - pre_miRNA: 0.8418 - miRNA: 0.8250 - tRNA: 0.9944 - tmRNA: 1.0000\n",
      "Epoch 7/10\n",
      "74/74 [==============================] - 30s 399ms/step - loss: 0.0777 - snoRNA: 0.9568 - rRNA: 1.0000 - snRNA: 1.0000 - mRNA: 0.9961 - pre_miRNA: 0.9040 - miRNA: 0.9059 - tRNA: 1.0000 - tmRNA: 1.0000\n",
      "Epoch 8/10\n",
      "74/74 [==============================] - 29s 393ms/step - loss: 0.0593 - snoRNA: 0.9571 - rRNA: 1.0000 - snRNA: 0.9890 - mRNA: 0.9980 - pre_miRNA: 0.9261 - miRNA: 0.9171 - tRNA: 0.9972 - tmRNA: 1.0000\n",
      "Epoch 9/10\n",
      "74/74 [==============================] - 29s 391ms/step - loss: 0.0514 - snoRNA: 0.9854 - rRNA: 1.0000 - snRNA: 1.0000 - mRNA: 1.0000 - pre_miRNA: 0.9204 - miRNA: 0.9061 - tRNA: 1.0000 - tmRNA: 1.0000\n",
      "Epoch 10/10\n",
      "74/74 [==============================] - 32s 428ms/step - loss: 0.0368 - snoRNA: 1.0000 - rRNA: 1.0000 - snRNA: 1.0000 - mRNA: 1.0000 - pre_miRNA: 0.9550 - miRNA: 0.9524 - tRNA: 1.0000 - tmRNA: 1.0000\n"
     ]
    },
    {
     "data": {
      "text/plain": [
       "<keras.callbacks.History at 0x7f3798532aa0>"
      ]
     },
     "execution_count": 14,
     "metadata": {},
     "output_type": "execute_result"
    }
   ],
   "source": [
    "model.fit(train.seqs, train.labels, batch_size=32, epochs=10)"
   ]
  },
  {
   "cell_type": "code",
   "execution_count": 15,
   "metadata": {},
   "outputs": [
    {
     "name": "stdout",
     "output_type": "stream",
     "text": [
      "21/21 [==============================] - 2s 93ms/step - loss: 0.6704 - snoRNA: 0.5185 - rRNA: 0.8811 - snRNA: 0.8182 - mRNA: 0.9058 - pre_miRNA: 0.5490 - miRNA: 0.4828 - tRNA: 0.9663 - tmRNA: 1.0000    \n"
     ]
    },
    {
     "data": {
      "text/plain": [
       "{'snoRNA': 0.5185185074806213,\n",
       " 'rRNA': 0.881118893623352,\n",
       " 'snRNA': 0.8181818127632141,\n",
       " 'mRNA': 0.9057591557502747,\n",
       " 'pre_miRNA': 0.5490196347236633,\n",
       " 'miRNA': 0.48275861144065857,\n",
       " 'tRNA': 0.966292142868042,\n",
       " 'tmRNA': 1.0}"
      ]
     },
     "execution_count": 15,
     "metadata": {},
     "output_type": "execute_result"
    }
   ],
   "source": [
    "vals = model.evaluate(test.seqs, test.labels)\n",
    "\n",
    "val_dict = {test.names[i]: val for i, val in enumerate(vals[1:])}\n",
    "\n",
    "val_dict"
   ]
  }
 ],
 "metadata": {
  "kernelspec": {
   "display_name": "py",
   "language": "python",
   "name": "python3"
  },
  "language_info": {
   "codemirror_mode": {
    "name": "ipython",
    "version": 3
   },
   "file_extension": ".py",
   "mimetype": "text/x-python",
   "name": "python",
   "nbconvert_exporter": "python",
   "pygments_lexer": "ipython3",
   "version": "3.10.9"
  },
  "orig_nbformat": 4,
  "vscode": {
   "interpreter": {
    "hash": "17d40333175704b52d6a524f539682f33e98690ae2623699a08441db78a597fe"
   }
  }
 },
 "nbformat": 4,
 "nbformat_minor": 2
}
